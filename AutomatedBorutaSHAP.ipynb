{
 "cells": [
  {
   "cell_type": "code",
   "execution_count": 2,
   "id": "02827100",
   "metadata": {},
   "outputs": [],
   "source": [
    "import pandas as pd\n",
    "import numpy as np\n",
    "import matplotlib.pyplot as plt\n",
    "from BorutaShap import BorutaShap\n",
    "from scipy import stats\n",
    "import os\n",
    "\n",
    "path = os.getcwd()+'\\\\RawData\\\\'"
   ]
  },
  {
   "cell_type": "code",
   "execution_count": 48,
   "id": "6e7a23bf",
   "metadata": {},
   "outputs": [],
   "source": [
    "# define lists for different factors for each subset of features being selected\n",
    "# need to consider only subject-related features as well as inclusion of aircraft features\n",
    "X = ['subj','all']\n",
    "errors = ['Cumulative_Error', 'GlideSlope_Error', 'Localizer_Error', 'Airspeed_Error']"
   ]
  },
  {
   "cell_type": "code",
   "execution_count": 49,
   "id": "fc821c39",
   "metadata": {},
   "outputs": [
    {
     "data": {
      "application/vnd.jupyter.widget-view+json": {
       "model_id": "d4f1d7a71d9a43cc87a97aa84806a287",
       "version_major": 2,
       "version_minor": 0
      },
      "text/plain": [
       "  0%|          | 0/1000 [00:00<?, ?it/s]"
      ]
     },
     "metadata": {},
     "output_type": "display_data"
    },
    {
     "data": {
      "application/vnd.jupyter.widget-view+json": {
       "model_id": "05c9275be3dc41cea61c4c3beb1451fa",
       "version_major": 2,
       "version_minor": 0
      },
      "text/plain": [
       "  0%|          | 0/1000 [00:00<?, ?it/s]"
      ]
     },
     "metadata": {},
     "output_type": "display_data"
    },
    {
     "data": {
      "application/vnd.jupyter.widget-view+json": {
       "model_id": "c5dc509b3ef5405ca834412d49af2c89",
       "version_major": 2,
       "version_minor": 0
      },
      "text/plain": [
       "  0%|          | 0/1000 [00:00<?, ?it/s]"
      ]
     },
     "metadata": {},
     "output_type": "display_data"
    },
    {
     "data": {
      "application/vnd.jupyter.widget-view+json": {
       "model_id": "1343c086768441d9a7e50b2deb1e26ba",
       "version_major": 2,
       "version_minor": 0
      },
      "text/plain": [
       "  0%|          | 0/1000 [00:00<?, ?it/s]"
      ]
     },
     "metadata": {},
     "output_type": "display_data"
    },
    {
     "data": {
      "application/vnd.jupyter.widget-view+json": {
       "model_id": "d0f15c865f3a4238babf91db5d669ea9",
       "version_major": 2,
       "version_minor": 0
      },
      "text/plain": [
       "  0%|          | 0/1000 [00:00<?, ?it/s]"
      ]
     },
     "metadata": {},
     "output_type": "display_data"
    },
    {
     "data": {
      "application/vnd.jupyter.widget-view+json": {
       "model_id": "f3388dcd72e64c5fafc05de4c10cacea",
       "version_major": 2,
       "version_minor": 0
      },
      "text/plain": [
       "  0%|          | 0/1000 [00:00<?, ?it/s]"
      ]
     },
     "metadata": {},
     "output_type": "display_data"
    },
    {
     "data": {
      "application/vnd.jupyter.widget-view+json": {
       "model_id": "24616f37726c467296c727be74c39f1f",
       "version_major": 2,
       "version_minor": 0
      },
      "text/plain": [
       "  0%|          | 0/1000 [00:00<?, ?it/s]"
      ]
     },
     "metadata": {},
     "output_type": "display_data"
    },
    {
     "data": {
      "application/vnd.jupyter.widget-view+json": {
       "model_id": "a362c9cd3eba40fba8a86d0582a26421",
       "version_major": 2,
       "version_minor": 0
      },
      "text/plain": [
       "  0%|          | 0/1000 [00:00<?, ?it/s]"
      ]
     },
     "metadata": {},
     "output_type": "display_data"
    }
   ],
   "source": [
    "# empty dataframe for results\n",
    "selected_features = pd.DataFrame()\n",
    "\n",
    "# iterate through both types of data\n",
    "for i in range(len(X)):\n",
    "    trainX = pd.read_csv(path+'trainX_'+X[i]+'.csv').drop(['Subject-Run'], axis=1)\n",
    "    \n",
    "    # iterate through each of the four error types\n",
    "    for j in range(len(errors)):\n",
    "        trainY = pd.read_csv(path+'trainY.csv')[errors[j]]\n",
    "        \n",
    "        # perform BorutaSHAP\n",
    "        Feature_Selector = BorutaShap(importance_measure='shap',classification = False)\n",
    "        Feature_Selector.fit(X=trainX, y = trainY, n_trials = 1000, random_state=42, verbose = 0, normalize = False)\n",
    "        \n",
    "        # save feature names and importance to dataframe\n",
    "        df = pd.DataFrame()\n",
    "        df[X[i]+'_'+errors[j]+'_Features'] = Feature_Selector.X.columns\n",
    "        df[X[i]+'_'+errors[j]+'_AvgSHAP'] = Feature_Selector.X_feature_import\n",
    "        df[X[i]+'_'+errors[j]+'_ZScore'] = stats.zscore(Feature_Selector.X_feature_import, axis=None)\n",
    "        \n",
    "        # combine individual dataframe with large dataframe, axis=1 allows different length columns\n",
    "        selected_features = pd.concat([selected_features,df], axis=1)\n",
    "        \n",
    "# save all features and info to csv\n",
    "selected_features.to_csv(path+'selected_features.csv', encoding='utf-8', header='true', index = False)"
   ]
  }
 ],
 "metadata": {
  "kernelspec": {
   "display_name": "Python 3 (ipykernel)",
   "language": "python",
   "name": "python3"
  },
  "language_info": {
   "codemirror_mode": {
    "name": "ipython",
    "version": 3
   },
   "file_extension": ".py",
   "mimetype": "text/x-python",
   "name": "python",
   "nbconvert_exporter": "python",
   "pygments_lexer": "ipython3",
   "version": "3.10.9"
  }
 },
 "nbformat": 4,
 "nbformat_minor": 5
}
